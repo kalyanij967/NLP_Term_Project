{
  "nbformat": 4,
  "nbformat_minor": 0,
  "metadata": {
    "colab": {
      "provenance": []
    },
    "kernelspec": {
      "name": "python3",
      "display_name": "Python 3"
    },
    "language_info": {
      "name": "python"
    }
  },
  "cells": [
    {
      "cell_type": "markdown",
      "source": [
        "\n",
        "Data pre-processing is an essential step in machine learning . It involves cleaning and transforming raw data to a suitable format for machine learning algorithms. In this project, the pre-processing steps included removing rows with missing values, removing punctuation marks, converting text to lowercase, removing non-alphanumeric characters, and removing extra whitespaces. These steps ensure that the data is in a consistent and standardized format, which is necessary for accurate classification."
      ],
      "metadata": {
        "id": "uaEEAseuZJjF"
      }
    },
    {
      "cell_type": "code",
      "source": [
        "import pandas as pd\n",
        "import re\n",
        "import string\n",
        "\n",
        "# Loading the dataset\n",
        "### Looping the data lines\n",
        "with open(\"bbc-news-data.csv\", 'r') as temp_f:\n",
        "    # getting No of columns in each line\n",
        "    col_count = [ len(l.split(\",\")) for l in temp_f.readlines() ]\n",
        "\n",
        "### Generating column names  (names will be 0, 1, 2, ..., maximum columns - 1)\n",
        "column_names = [i for i in range(0, max(col_count))]\n",
        "\n",
        "### Reading csv\n",
        "df = pd.read_csv(\"bbc-news-data.csv\", header=None, delimiter=\",\", names=column_names)\n",
        "\n",
        "print(len(df.index))\n",
        "\n",
        "# Removing any rows with missing values\n",
        "df.dropna(inplace=True)\n",
        "\n",
        "# Removing punctuation marks from text\n",
        "def remove_punctuation(text):\n",
        "    return text.translate(str.maketrans(\"\", \"\", string.punctuation))\n",
        "\n",
        "df[2] = df[2].apply(remove_punctuation)\n",
        "df[3] = df[3].apply(remove_punctuation)\n",
        "\n",
        "# Converting text to lowercase\n",
        "df[2] = df[2].str.lower()\n",
        "df[3] = df[3].str.lower()\n",
        "\n",
        "# Removing any non-alphanumeric characters from text\n",
        "def remove_non_alphanumeric(text):\n",
        "    return re.sub(r'[^a-zA-Z0-9\\s]', '', text)\n",
        "\n",
        "df[2] = df[2].apply(remove_non_alphanumeric)\n",
        "df[3] = df[3].apply(remove_non_alphanumeric)\n",
        "\n",
        "# Removing any extra whitespace from text\n",
        "df[2] = df[2].str.strip()\n",
        "df[3] = df[3].str.strip()\n",
        "df[3] = df[3].str.replace('\\s+', ' ')\n",
        "\n",
        "# Saving the preprocessed data to a new file\n",
        "df.to_csv('preprocessed_bbc-news-data.csv', index=False)\n"
      ],
      "metadata": {
        "colab": {
          "base_uri": "https://localhost:8080/"
        },
        "id": "ePzJTevQoyx6",
        "outputId": "4f8d2f12-8a2f-4c84-dfcc-3c69b6bb546e"
      },
      "execution_count": 21,
      "outputs": [
        {
          "output_type": "stream",
          "name": "stdout",
          "text": [
            "1624\n"
          ]
        },
        {
          "output_type": "stream",
          "name": "stderr",
          "text": [
            "<ipython-input-21-2b51ebca9ec4>:43: FutureWarning: The default value of regex will change from True to False in a future version.\n",
            "  df[3] = df[3].str.replace('\\s+', ' ')\n"
          ]
        }
      ]
    },
    {
      "cell_type": "markdown",
      "source": [
        "This code loads the dataset, removes any rows with missing values, removes punctuation marks, converts text to lowercase, removes non-alphanumeric characters, removes extra whitespace, and saves the preprocessed data to a new file called preprocessed_bbc-news-data.csv. Note that you may need to modify the code depending on the specific requirements of your project."
      ],
      "metadata": {
        "id": "ZNXruymaYCdX"
      }
    },
    {
      "cell_type": "markdown",
      "source": [
        "Regex is used to remove any non-alphanumeric characters from the text data. Specifically, the remove_non_alphanumeric() function is defined using regex to substitute any non-alphanumeric character (i.e., characters that are not letters or numbers) with an empty string ''. This is done using the re.sub() method, which takes as arguments the regular expression pattern to match, the replacement string to substitute the matches with, and the string to apply the substitution to.\n",
        "\n",
        "This step is important in the data preprocessing stage because it helps to clean the text data and remove any unwanted characters that could affect the accuracy of the model. By removing non-alphanumeric characters, the text data is transformed into a more uniform and standardized format that is easier to analyze and model."
      ],
      "metadata": {
        "id": "lsq8PGU-ZYho"
      }
    },
    {
      "cell_type": "code",
      "execution_count": 31,
      "metadata": {
        "id": "rmVPmq2HZtT-",
        "colab": {
          "base_uri": "https://localhost:8080/"
        },
        "outputId": "8c58d3e2-61e8-416e-f75f-9b0bfddaf3dc"
      },
      "outputs": [
        {
          "output_type": "stream",
          "name": "stderr",
          "text": [
            "[nltk_data] Downloading package punkt to /root/nltk_data...\n",
            "[nltk_data]   Package punkt is already up-to-date!\n",
            "[nltk_data] Downloading package averaged_perceptron_tagger to\n",
            "[nltk_data]     /root/nltk_data...\n",
            "[nltk_data]   Package averaged_perceptron_tagger is already up-to-\n",
            "[nltk_data]       date!\n"
          ]
        },
        {
          "output_type": "stream",
          "name": "stdout",
          "text": [
            "1624\n",
            "Category of headline ' Asian carmakers fared well - Toyota sales jumped 11% while rival Nissan notched up a 10% increase. Overall. sales across the industry also fell to 1.25 million vehicles from 1.27 million a year earlier.  GM and Ford blamed high fuel prices for low sales of big trucks and gas-guzzling sports utility vehicles (SUVs) - the vehicles that provide the biggest profits.  GM added that US truck sales fell 9% in February while car business tumbled 17%': sports\n",
            "Category of headline ' has seen annual pre-tax profits climb to record levels boosted by a sharp rise in business at its investment arm.  Profits for the year to 31 December rose 20% to £4.6bn ($8.6bn). Barclays' chief John Varley said the bank had \"caught the winds\" of a very strong world economy. Earnings at Barclays Capital investment bank rose 25% to £1.04bn': business\n",
            "Category of headline ' Monsanto also agreed to three years' close monitoring of its business practices by the American authorities. It said it accepted full responsibility for what it called improper activities.  A former senior manager at Monsanto directed an Indonesian consulting firm to give a $50': business\n",
            "Category of headline ' the Marsh executive admitted he instructed insurance companies to submit non-competitive bids for insurance business between 2002 and 2004. Those bids were then \"conveyed to Marsh clients under false and fraudulent pretences\". Through the practice': business\n",
            "Category of headline ' Harvard and the UN aids agency. \"Too few companies are responding proactively to the social and business threats': business\n",
            "Category of headline ' who died in 2004. In its first week on home entertainment release the film was the number one selling DVD': entertainment\n",
            "Category of headline ' as voted by television viewers. Natasha Kaplinsky's Strictly Come Dancing win was top entertainment moment and a Little Britain breast feeding sketch won the comedy prize. The 2004 TV Moments will be shown on BBC One at 2000 GMT on Wednesday. Double gold medal winner Holmes topped the best sports moment category': entertainment\n",
            "Category of headline ' including best comedy entertainment personality. The Geordie duo also secured best comedy entertainment programme for Saturday Night Takeaway': entertainment\n",
            "Category of headline ' added Mr Lush. The former All Saint star has performed dismally in bushtucker trials which have seen her plunged into glass tanks containing putrid waste and challenged to eat fish eyes. On Friday, Ladbrokes suspended betting after singer Brian Harvey quit the show folllowing a blazing row with Janet Street-Porter. Harvey, who entered the camp a day later than other contestants after learning that his grandmother had died, reached the end of his tether following days of meagre rations and rows. \n",
            "entertainment\t224.txt\tFarrell due to make US TV debut\t Actor Colin Farrell is to make his debut on US television in medical sitcom Scrubs, according to Hollywood newspaper Daily Variety.  The film star, who recently played the title role in historical blockbuster Alexander, will make a cameo appearance as an unruly Irishman. The episode featuring the 28-year-old will be screened on 25 January. Farrell's appearance is said to be a result of his friendship with Zach Braff, who stars in the programme. It will be the actor's first appearance on the small screen since he appeared in BBC series Ballykissangel in 1999. The gentle Sunday night drama came to an end in 2001.  He has since become one of Hollywood's fastest-rising stars, with a string roles in major league films such as Minority Report, Phone Booth and Daredevil. Farrell is pencilled in to play the role of Crockett in a film version of 1980s police drama Miami Vice. Scrubs, which appears on the NBC network in the US and has been shown on Channel 4 on British television, is an off-beat comedy about a group of hospital doctors. Other film stars to have appeared in Scrubs include Heather Graham, while Friends actor Matthew Perry has guest-starred and directed an episode of the show. Its leading star, Zach Braff, has recently been seen on the big screen in Garden State, which he also directed. \n",
            "entertainment\t225.txt\tStallone evicted from Big Brother\t Jackie Stallone, mother of actor Sylvester, has become the first star to be evicted from Celebrity Big Brother.  She and John McCririck faced the public vote on Friday - 67% of people voted to keep the racing pundit in the house. Stallone, 71, appeared not to have enjoyed her time in the house saying: I'm a total wreck': entertainment\n",
            "Category of headline ' who died in 2004. In its first week on home entertainment release the film was the number one selling DVD': entertainment\n",
            "Category of headline ' said the New Zealander. The rights to JRR Tolkien's book are split between two major film studios. Jackson, who is currently filming a remake of Hollywood classic King Kong, said he thought that the sale of MGM studios to the Sony Corporation would cast further uncertainty on the project. The 43-year-old was in the Australian city to visit a Lord of the Rings exhibition, which has attracted 140,000 visitors since it opened in December.  The film-maker recently sued film company New Line Cinema for undisclosed damages over alleged withheld profits and lost revenue from the first part of the Middle Earth trilogy. The Fellowship of The Ring from 2001 went on to make worldwide profits of $291 million (£152 million). Jackson is thought to have secured the most lucrative film directing deal in history to remake King Kong, which is currently in production in Wellington. The picture, which stars Naomi Watts and Oscar winner Adrien Brody, is due to be released in December. Jackson has also committed to making a film version of Lovely Bones, based on the best-selling book by Alice Sebold. \n",
            "entertainment\t386.txt\tBuffy creator joins Wonder Woman\t The creator of Buffy the Vampire Slayer is to take on a new female superhero after signing up to write and direct the Wonder Woman movie.  Joss Whedon described the DC Comics character as the most iconic female heroine of our time\". \"In a way': entertainment\n",
            "Category of headline ' have live entertainment and large numbers of fruit machines with unlimited prizes. But the Scottish National Party and the Tories say the issue of super-casinos should be decided in Scotland and believe the executive is shirking its responsibility. ': entertainment\n",
            "Category of headline ' which had dominated the Christmas and New Year period. At home he said many people were turning to the Liberal Democrats as they became disheartened with the politics of the other two main parties.  The general election would be a three-party struggle': politics\n",
            "Category of headline ' and said earlier this week he would not apologise even if Mr Blair asked. Later the prime minister said: \"A lot of us in politics get angry with journalists from time to time': politics\n",
            "Category of headline ' £13.4m will come from the business support grant - a scheme which enables local authorities to keep part of business rates. She said where spending rises were kept to around 5% she was \"confident that councils will be able to set council taxes at reasonable levels.\" The Welsh Local Government Association (WLGA) had said on the eve of the announcement said that \"significant\" cuts to services may still be unavoidable. After the announcement WLGA finance spokesman Bob Wellington': business\n",
            "Category of headline ' he said. Shadow sports minister Lord Moynihan said the policy would empower local clubs and create a lasting legacy. \"We aim to shift the emphasis on after-school sport provision away from our overstretched teachers and schools directly in to the 151': sports\n",
            "Category of headline ' Mr Blair said. But the Conservatives say government proposals - which include two hours' PE within school for 75% of pupils by 2006 - are unrealistic.  The latest move is aimed at encouraging more diversity in sport, with activities such as yoga and Tai Chi being options. Launching the initiative, Mr Blair completed an agility course and shot basketball hoops with students from the all-girl Waverley Sports College in Southwark, south London. He said: You've got to bring back school sport. It's got to be done differently than it was 30 or 40 years ago. It's still very': sports\n",
            "Category of headline ' which is expected in the spring. But opinion is divided on whether any of the potential candidates unearthed so far have got what it takes to make it in politics. \"Any of them would make competent MPs': politics\n",
            "Category of headline ' is playing politics with the security of the nation?  Michael Howard has no doubt it is the prime minister who': politics\n",
            "Category of headline ' and was also edged out in an epic New York Marathon contest last year.  But the ban will prevent the two-time world half-marathon silver medallist from challenging Radcliffe at this year's London event in April. Global Sports Communications': sports\n",
            "Category of headline ' and with the help of our fans we will do everything we can.\" Bates bought his stake under the guise of a Geneva-based company known as The Forward Sports Fund. He revealed that part of his plan is to buy back Leeds' Elland Road stadium and Thorp Arch training ground in due course.  \"It's going to be a tough jon and the first task is to stabilise the cash flow and sort out the remaining creditors': sports\n",
            "Category of headline ' he told BBC Sport. Unless the authorities agree to make changes, Saint-Andre believes England's national team will suffer as clubs opt to sign foreigners and retired internationals. That's not good for the politics of the English team or for English rugby': politics\n",
            "Category of headline ' after winning the US Open junior title last year and the BBC Young Sports Personality of the Year. British number one Tim Henman': sports\n",
            "Category of headline ' chair of Bafta's Interactive Entertainment committee': entertainment\n",
            "Category of headline ' is celebrating its 10th anniversary this week.  The web portal has undergone remarkable change since it was set up by Stanford University students David Filo and Jerry Yang in a campus trailer. The students wanted a way of keeping track of their web-based interests. The categories lists they devised soon became popular to hundreds of people and the two saw business potential in their idea.  Originally dubbed \"Jerry's Guide to the World Wide Web\" the firm adopted the moniker Yahoo because the founders liked the dictionary definition of a yahoo as a rude': business\n",
            "Category of headline ' and now Hollywood is preparing for the next revolution in home entertainment - high-definition.  High-definition gives incredible': entertainment\n",
            "Category of headline ' last year was the final time that developers Sports Interactive (SI) and publishers Eidos would work together. They decided to go their separate ways': sports\n",
            "Category of headline ' can be a costly business.  The cost of paying even as little as 70p per track can add up': business\n",
            "Category of headline ' and now Hollywood is preparing for the next revolution in home entertainment - high-definition.  High-definition gives incredible': entertainment\n",
            "Category of headline ' nearly a third of e-mail users have clicked on links in spam messages. One in ten users have bought products advertised in junk mail. Clicking on a link in a spam message can expose people to viruses and alert spammers to live e-mail accounts.  The fact that one in ten e-mail users are buying things advertised in spam continues to make it an attractive business': business\n",
            "Category of headline ' sports': sports\n"
          ]
        }
      ],
      "source": [
        "# Dataset-https://www.kaggle.com/datasets/hgultekin/bbcnewsarchive?resource=download\n",
        "import pandas as pd\n",
        "import nltk\n",
        "\n",
        "# Downloading required resources from nltk\n",
        "nltk.download('punkt')\n",
        "nltk.download('averaged_perceptron_tagger')\n",
        "\n",
        "# Loading the pre-processed dataset\n",
        "### Looping the data lines\n",
        "with open(\"preprocessed_bbc-news-data.csv\", 'r') as temp_f:\n",
        "    # getting No of columns in each line\n",
        "    col_count = [ len(l.split(\",\")) for l in temp_f.readlines() ]\n",
        "\n",
        "### Generating column names  (names will be 0, 1, 2, ..., maximum columns - 1)\n",
        "column_names = [i for i in range(0, max(col_count))]\n",
        "\n",
        "### Reading csv\n",
        "df = pd.read_csv(\"bbc-news-data.csv\", header=None, delimiter=\",\", names=column_names)\n",
        "\n",
        "print(len(df.index))\n",
        "\n",
        "# Defining the categories we're interested in\n",
        "categories = ['business', 'politics', 'entertainment', 'sports', 'tech']\n",
        "\n",
        "# Looping through each row in the dataset and extract the category based on the headline\n",
        "correct=0\n",
        "total=0\n",
        "cnt=0\n",
        "for index, row in df.iterrows():\n",
        "    headline = row[2]\n",
        "    tokens = nltk.word_tokenize(str(headline))\n",
        "    tagged = nltk.pos_tag(tokens)\n",
        "    cnt+=1\n",
        "    for word, tag in tagged:\n",
        "        if word.lower() in categories:\n",
        "          actual_category=row[0].split()[0]\n",
        "          print(f\"Category of headline '{headline}': {word.lower()}\")\n",
        "          total+=1\n",
        "          if(actual_category==word.lower()):\n",
        "            correct+=1\n",
        "          break\n",
        "\n"
      ]
    },
    {
      "cell_type": "markdown",
      "source": [
        "This code loads a CSV file using the pandas library and iterates over each row to extract the category based on the headline. Here's how it works:\n",
        "\n",
        "The code first downloads two NLTK resources: punkt and averaged_perceptron_tagger, which are required for tokenization and part-of-speech tagging.\n",
        "\n",
        "Next, it loads the dataset from a CSV file called bbc-news-data.csv using the pd.read_csv() function from pandas. Since the CSV file does not have column names, the header=None parameter is used. The delimiter=\",\" parameter specifies that the data is comma-separated. The names parameter is used to generate column names for the DataFrame.\n",
        "\n",
        "The code then defines a list of categories that we're interested in: ['business', 'politics', 'entertainment', 'sports', 'technology'].\n",
        "\n",
        "For each row in the dataset, the code extracts the headline and tokenizes it using the nltk.word_tokenize() function. It then performs part-of-speech tagging on the tokens using the nltk.pos_tag() function.\n",
        "\n",
        "Finally, the code loops through the tagged tokens and checks if any of them match one of the categories. If a match is found, the category is printed along with the corresponding headline.\n",
        "\n",
        "In summary, the code reads in a CSV file of news articles and extracts the category of each article based on the headline using NLTK tokenization and part-of-speech tagging."
      ],
      "metadata": {
        "id": "IqrcSTMLqEbn"
      }
    },
    {
      "cell_type": "code",
      "source": [
        "accuracy=(correct/total)*100\n",
        "print(accuracy)\n"
      ],
      "metadata": {
        "colab": {
          "base_uri": "https://localhost:8080/"
        },
        "id": "Em4YqywKrcBn",
        "outputId": "f175222d-acc3-4973-935a-aa521aeea235"
      },
      "execution_count": 18,
      "outputs": [
        {
          "output_type": "stream",
          "name": "stdout",
          "text": [
            "45.16129032258064\n"
          ]
        }
      ]
    },
    {
      "cell_type": "code",
      "source": [],
      "metadata": {
        "id": "yzShLJ83Eypk"
      },
      "execution_count": null,
      "outputs": []
    }
  ]
}